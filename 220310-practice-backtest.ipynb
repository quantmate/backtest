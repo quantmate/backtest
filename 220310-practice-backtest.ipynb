{
 "cells": [
  {
   "cell_type": "markdown",
   "metadata": {},
   "source": [
    "> # BACKTEST\n",
    "\n",
    "- 데이터 명: 25 Portfolios Formed on Size and Book-to-Market (5 x 5)\n",
    "    - 25 Developed Portfolios Formed on Size and Book-to-Market (5 x 5) \n",
    "- 데이터 출처: [Kennth R. French Data Library:](http://mba.tuck.dartmouth.edu/pages/faculty/ken.french/data_library.html)"
   ]
  },
  {
   "cell_type": "code",
   "execution_count": 48,
   "metadata": {
    "ExecuteTime": {
     "end_time": "2022-03-10T02:37:07.385815Z",
     "start_time": "2022-03-10T02:37:07.365670Z"
    }
   },
   "outputs": [],
   "source": [
    "import warnings\n",
    "warnings.filterwarnings(\"ignore\")\n",
    "import glob\n",
    "import numpy as np\n",
    "import pandas as pd\n",
    "pd.set_option('display.max_columns', 250)\n",
    "pd.set_option('display.max_rows', 250)\n",
    "pd.set_option('display.width', 100)\n",
    "# 파일 경로 목록\n",
    "file_path_list = sorted(glob.glob(\"./Data/*\"))"
   ]
  },
  {
   "attachments": {},
   "cell_type": "markdown",
   "metadata": {},
   "source": [
    "## Dataset\n",
    "\n",
    "1. Average Value Weighted Returns -- Monthly\n",
    "2. Average Equal Weighted Returns -- Monthly\n",
    "3. Average Value Weighted Returns -- Annual\n",
    "4. Average Equal Weighted Returns -- Annual\n",
    "5. Number of Firms in Portfolios\n",
    "6. Average Firm Size"
   ]
  },
  {
   "cell_type": "code",
   "execution_count": 181,
   "metadata": {
    "ExecuteTime": {
     "end_time": "2022-03-10T03:42:07.045143Z",
     "start_time": "2022-03-10T03:42:06.967765Z"
    }
   },
   "outputs": [
    {
     "name": "stdout",
     "output_type": "stream",
     "text": [
      "1\n",
      "2\n",
      "3\n",
      "4\n",
      "5\n"
     ]
    }
   ],
   "source": [
    "df = pd.read_csv(file_path_list[0], skiprows=20)\n",
    "df = df.rename(columns={\" \": \"Date\"})\n",
    "dfs = []\n",
    "start_idx = -1\n",
    "for _, idx in enumerate(df.loc[df['Date'].str.len() < 2].index):\n",
    "    print(_+1)\n",
    "    part = df.iloc[start_idx+1:idx-1]\n",
    "    part.index=range(len(part))\n",
    "    part[df.columns[1:]] = part[df.columns[1:]].apply(pd.to_numeric)\n",
    "    try:\n",
    "        part[df.columns[0]] = pd.to_datetime(part[df.columns[0]].str.strip(), format=\"%Y%m\")\n",
    "    except:\n",
    "        part[df.columns[0]] = pd.to_datetime(part[df.columns[0]].str.strip(), format=\"%Y\")\n",
    "    dfs.append(part)\n",
    "    start_idx = idx\n",
    "part = df.iloc[idx+1:]\n",
    "part.index=range(len(part))\n",
    "dfs.append(part)\n",
    "df1, df2, df3, df4, df5, df6 = map(lambda x: x[0], zip(dfs))"
   ]
  },
  {
   "cell_type": "markdown",
   "metadata": {},
   "source": [
    "## 1. Average Value Weighted Returns -- Monthly"
   ]
  },
  {
   "cell_type": "code",
   "execution_count": 198,
   "metadata": {
    "ExecuteTime": {
     "end_time": "2022-03-10T05:13:50.215973Z",
     "start_time": "2022-03-10T05:13:50.142426Z"
    }
   },
   "outputs": [
    {
     "data": {
      "text/html": [
       "<div>\n",
       "<style scoped>\n",
       "    .dataframe tbody tr th:only-of-type {\n",
       "        vertical-align: middle;\n",
       "    }\n",
       "\n",
       "    .dataframe tbody tr th {\n",
       "        vertical-align: top;\n",
       "    }\n",
       "\n",
       "    .dataframe thead th {\n",
       "        text-align: right;\n",
       "    }\n",
       "</style>\n",
       "<table border=\"1\" class=\"dataframe\">\n",
       "  <thead>\n",
       "    <tr style=\"text-align: right;\">\n",
       "      <th></th>\n",
       "      <th>SMALL LoBM</th>\n",
       "      <th>ME1 BM2</th>\n",
       "      <th>ME1 BM3</th>\n",
       "      <th>ME1 BM4</th>\n",
       "      <th>SMALL HiBM</th>\n",
       "      <th>ME2 BM1</th>\n",
       "      <th>ME2 BM2</th>\n",
       "      <th>ME2 BM3</th>\n",
       "      <th>ME2 BM4</th>\n",
       "      <th>ME2 BM5</th>\n",
       "      <th>ME3 BM1</th>\n",
       "      <th>ME3 BM2</th>\n",
       "      <th>ME3 BM3</th>\n",
       "      <th>ME3 BM4</th>\n",
       "      <th>ME3 BM5</th>\n",
       "      <th>ME4 BM1</th>\n",
       "      <th>ME4 BM2</th>\n",
       "      <th>ME4 BM3</th>\n",
       "      <th>ME4 BM4</th>\n",
       "      <th>ME4 BM5</th>\n",
       "      <th>BIG LoBM</th>\n",
       "      <th>ME5 BM2</th>\n",
       "      <th>ME5 BM3</th>\n",
       "      <th>ME5 BM4</th>\n",
       "      <th>BIG HiBM</th>\n",
       "    </tr>\n",
       "  </thead>\n",
       "  <tbody>\n",
       "    <tr>\n",
       "      <th>count</th>\n",
       "      <td>379.000000</td>\n",
       "      <td>379.000000</td>\n",
       "      <td>379.000000</td>\n",
       "      <td>379.000000</td>\n",
       "      <td>379.000000</td>\n",
       "      <td>379.000000</td>\n",
       "      <td>379.000000</td>\n",
       "      <td>379.000000</td>\n",
       "      <td>379.000000</td>\n",
       "      <td>379.000000</td>\n",
       "      <td>379.000000</td>\n",
       "      <td>379.000000</td>\n",
       "      <td>379.000000</td>\n",
       "      <td>379.00000</td>\n",
       "      <td>379.000000</td>\n",
       "      <td>379.000000</td>\n",
       "      <td>379.000000</td>\n",
       "      <td>379.000000</td>\n",
       "      <td>379.000000</td>\n",
       "      <td>379.000000</td>\n",
       "      <td>379.000000</td>\n",
       "      <td>379.000000</td>\n",
       "      <td>379.000000</td>\n",
       "      <td>379.000000</td>\n",
       "      <td>379.000000</td>\n",
       "    </tr>\n",
       "    <tr>\n",
       "      <th>mean</th>\n",
       "      <td>0.339631</td>\n",
       "      <td>0.627995</td>\n",
       "      <td>0.855989</td>\n",
       "      <td>0.866491</td>\n",
       "      <td>1.120317</td>\n",
       "      <td>0.451055</td>\n",
       "      <td>0.683377</td>\n",
       "      <td>0.706201</td>\n",
       "      <td>0.798654</td>\n",
       "      <td>0.870026</td>\n",
       "      <td>0.568971</td>\n",
       "      <td>0.636253</td>\n",
       "      <td>0.741425</td>\n",
       "      <td>0.77628</td>\n",
       "      <td>0.877731</td>\n",
       "      <td>0.727071</td>\n",
       "      <td>0.709208</td>\n",
       "      <td>0.724908</td>\n",
       "      <td>0.778470</td>\n",
       "      <td>0.817018</td>\n",
       "      <td>0.772137</td>\n",
       "      <td>0.751636</td>\n",
       "      <td>0.722850</td>\n",
       "      <td>0.720079</td>\n",
       "      <td>0.748391</td>\n",
       "    </tr>\n",
       "    <tr>\n",
       "      <th>std</th>\n",
       "      <td>5.779457</td>\n",
       "      <td>5.325242</td>\n",
       "      <td>5.076486</td>\n",
       "      <td>4.520855</td>\n",
       "      <td>4.344747</td>\n",
       "      <td>5.753663</td>\n",
       "      <td>5.150917</td>\n",
       "      <td>4.629691</td>\n",
       "      <td>4.418594</td>\n",
       "      <td>4.588360</td>\n",
       "      <td>5.641333</td>\n",
       "      <td>5.090009</td>\n",
       "      <td>4.736505</td>\n",
       "      <td>4.55771</td>\n",
       "      <td>4.755254</td>\n",
       "      <td>5.451466</td>\n",
       "      <td>4.582265</td>\n",
       "      <td>4.595443</td>\n",
       "      <td>4.550387</td>\n",
       "      <td>4.862927</td>\n",
       "      <td>4.548908</td>\n",
       "      <td>4.276967</td>\n",
       "      <td>4.347591</td>\n",
       "      <td>4.411165</td>\n",
       "      <td>5.330845</td>\n",
       "    </tr>\n",
       "    <tr>\n",
       "      <th>min</th>\n",
       "      <td>-24.220000</td>\n",
       "      <td>-25.620000</td>\n",
       "      <td>-24.450000</td>\n",
       "      <td>-21.080000</td>\n",
       "      <td>-19.650000</td>\n",
       "      <td>-24.600000</td>\n",
       "      <td>-24.700000</td>\n",
       "      <td>-20.610000</td>\n",
       "      <td>-21.390000</td>\n",
       "      <td>-24.080000</td>\n",
       "      <td>-24.330000</td>\n",
       "      <td>-24.710000</td>\n",
       "      <td>-22.580000</td>\n",
       "      <td>-20.63000</td>\n",
       "      <td>-22.770000</td>\n",
       "      <td>-23.480000</td>\n",
       "      <td>-21.670000</td>\n",
       "      <td>-20.410000</td>\n",
       "      <td>-22.250000</td>\n",
       "      <td>-24.480000</td>\n",
       "      <td>-18.310000</td>\n",
       "      <td>-15.060000</td>\n",
       "      <td>-18.840000</td>\n",
       "      <td>-18.390000</td>\n",
       "      <td>-26.230000</td>\n",
       "    </tr>\n",
       "    <tr>\n",
       "      <th>25%</th>\n",
       "      <td>-2.490000</td>\n",
       "      <td>-2.020000</td>\n",
       "      <td>-1.685000</td>\n",
       "      <td>-1.420000</td>\n",
       "      <td>-1.175000</td>\n",
       "      <td>-2.500000</td>\n",
       "      <td>-1.930000</td>\n",
       "      <td>-1.695000</td>\n",
       "      <td>-1.415000</td>\n",
       "      <td>-1.280000</td>\n",
       "      <td>-2.120000</td>\n",
       "      <td>-2.000000</td>\n",
       "      <td>-1.600000</td>\n",
       "      <td>-1.49000</td>\n",
       "      <td>-1.330000</td>\n",
       "      <td>-2.065000</td>\n",
       "      <td>-1.585000</td>\n",
       "      <td>-1.690000</td>\n",
       "      <td>-1.450000</td>\n",
       "      <td>-1.585000</td>\n",
       "      <td>-1.455000</td>\n",
       "      <td>-1.660000</td>\n",
       "      <td>-1.655000</td>\n",
       "      <td>-1.370000</td>\n",
       "      <td>-1.860000</td>\n",
       "    </tr>\n",
       "    <tr>\n",
       "      <th>50%</th>\n",
       "      <td>0.900000</td>\n",
       "      <td>1.120000</td>\n",
       "      <td>1.130000</td>\n",
       "      <td>1.280000</td>\n",
       "      <td>1.250000</td>\n",
       "      <td>0.840000</td>\n",
       "      <td>1.280000</td>\n",
       "      <td>1.050000</td>\n",
       "      <td>1.150000</td>\n",
       "      <td>1.020000</td>\n",
       "      <td>0.980000</td>\n",
       "      <td>1.150000</td>\n",
       "      <td>1.190000</td>\n",
       "      <td>1.27000</td>\n",
       "      <td>1.000000</td>\n",
       "      <td>1.190000</td>\n",
       "      <td>1.230000</td>\n",
       "      <td>1.160000</td>\n",
       "      <td>0.960000</td>\n",
       "      <td>1.350000</td>\n",
       "      <td>1.150000</td>\n",
       "      <td>1.240000</td>\n",
       "      <td>1.150000</td>\n",
       "      <td>1.100000</td>\n",
       "      <td>1.280000</td>\n",
       "    </tr>\n",
       "    <tr>\n",
       "      <th>75%</th>\n",
       "      <td>3.405000</td>\n",
       "      <td>3.705000</td>\n",
       "      <td>3.465000</td>\n",
       "      <td>3.590000</td>\n",
       "      <td>3.680000</td>\n",
       "      <td>3.950000</td>\n",
       "      <td>3.795000</td>\n",
       "      <td>3.325000</td>\n",
       "      <td>3.445000</td>\n",
       "      <td>3.560000</td>\n",
       "      <td>3.710000</td>\n",
       "      <td>3.380000</td>\n",
       "      <td>3.435000</td>\n",
       "      <td>3.36500</td>\n",
       "      <td>3.490000</td>\n",
       "      <td>3.760000</td>\n",
       "      <td>3.435000</td>\n",
       "      <td>3.280000</td>\n",
       "      <td>3.250000</td>\n",
       "      <td>3.470000</td>\n",
       "      <td>3.490000</td>\n",
       "      <td>3.375000</td>\n",
       "      <td>3.420000</td>\n",
       "      <td>3.255000</td>\n",
       "      <td>3.720000</td>\n",
       "    </tr>\n",
       "    <tr>\n",
       "      <th>max</th>\n",
       "      <td>23.460000</td>\n",
       "      <td>21.640000</td>\n",
       "      <td>21.890000</td>\n",
       "      <td>15.060000</td>\n",
       "      <td>14.440000</td>\n",
       "      <td>21.920000</td>\n",
       "      <td>15.620000</td>\n",
       "      <td>15.150000</td>\n",
       "      <td>15.130000</td>\n",
       "      <td>15.840000</td>\n",
       "      <td>16.650000</td>\n",
       "      <td>15.300000</td>\n",
       "      <td>15.860000</td>\n",
       "      <td>16.12000</td>\n",
       "      <td>17.780000</td>\n",
       "      <td>21.270000</td>\n",
       "      <td>12.760000</td>\n",
       "      <td>14.610000</td>\n",
       "      <td>16.000000</td>\n",
       "      <td>17.990000</td>\n",
       "      <td>12.750000</td>\n",
       "      <td>16.040000</td>\n",
       "      <td>12.050000</td>\n",
       "      <td>15.240000</td>\n",
       "      <td>20.180000</td>\n",
       "    </tr>\n",
       "  </tbody>\n",
       "</table>\n",
       "</div>"
      ],
      "text/plain": [
       "       SMALL LoBM     ME1 BM2     ME1 BM3     ME1 BM4  SMALL HiBM     ME2 BM1     ME2 BM2  \\\n",
       "count  379.000000  379.000000  379.000000  379.000000  379.000000  379.000000  379.000000   \n",
       "mean     0.339631    0.627995    0.855989    0.866491    1.120317    0.451055    0.683377   \n",
       "std      5.779457    5.325242    5.076486    4.520855    4.344747    5.753663    5.150917   \n",
       "min    -24.220000  -25.620000  -24.450000  -21.080000  -19.650000  -24.600000  -24.700000   \n",
       "25%     -2.490000   -2.020000   -1.685000   -1.420000   -1.175000   -2.500000   -1.930000   \n",
       "50%      0.900000    1.120000    1.130000    1.280000    1.250000    0.840000    1.280000   \n",
       "75%      3.405000    3.705000    3.465000    3.590000    3.680000    3.950000    3.795000   \n",
       "max     23.460000   21.640000   21.890000   15.060000   14.440000   21.920000   15.620000   \n",
       "\n",
       "          ME2 BM3     ME2 BM4     ME2 BM5     ME3 BM1     ME3 BM2     ME3 BM3    ME3 BM4  \\\n",
       "count  379.000000  379.000000  379.000000  379.000000  379.000000  379.000000  379.00000   \n",
       "mean     0.706201    0.798654    0.870026    0.568971    0.636253    0.741425    0.77628   \n",
       "std      4.629691    4.418594    4.588360    5.641333    5.090009    4.736505    4.55771   \n",
       "min    -20.610000  -21.390000  -24.080000  -24.330000  -24.710000  -22.580000  -20.63000   \n",
       "25%     -1.695000   -1.415000   -1.280000   -2.120000   -2.000000   -1.600000   -1.49000   \n",
       "50%      1.050000    1.150000    1.020000    0.980000    1.150000    1.190000    1.27000   \n",
       "75%      3.325000    3.445000    3.560000    3.710000    3.380000    3.435000    3.36500   \n",
       "max     15.150000   15.130000   15.840000   16.650000   15.300000   15.860000   16.12000   \n",
       "\n",
       "          ME3 BM5     ME4 BM1     ME4 BM2     ME4 BM3     ME4 BM4     ME4 BM5    BIG LoBM  \\\n",
       "count  379.000000  379.000000  379.000000  379.000000  379.000000  379.000000  379.000000   \n",
       "mean     0.877731    0.727071    0.709208    0.724908    0.778470    0.817018    0.772137   \n",
       "std      4.755254    5.451466    4.582265    4.595443    4.550387    4.862927    4.548908   \n",
       "min    -22.770000  -23.480000  -21.670000  -20.410000  -22.250000  -24.480000  -18.310000   \n",
       "25%     -1.330000   -2.065000   -1.585000   -1.690000   -1.450000   -1.585000   -1.455000   \n",
       "50%      1.000000    1.190000    1.230000    1.160000    0.960000    1.350000    1.150000   \n",
       "75%      3.490000    3.760000    3.435000    3.280000    3.250000    3.470000    3.490000   \n",
       "max     17.780000   21.270000   12.760000   14.610000   16.000000   17.990000   12.750000   \n",
       "\n",
       "          ME5 BM2     ME5 BM3     ME5 BM4    BIG HiBM  \n",
       "count  379.000000  379.000000  379.000000  379.000000  \n",
       "mean     0.751636    0.722850    0.720079    0.748391  \n",
       "std      4.276967    4.347591    4.411165    5.330845  \n",
       "min    -15.060000  -18.840000  -18.390000  -26.230000  \n",
       "25%     -1.660000   -1.655000   -1.370000   -1.860000  \n",
       "50%      1.240000    1.150000    1.100000    1.280000  \n",
       "75%      3.375000    3.420000    3.255000    3.720000  \n",
       "max     16.040000   12.050000   15.240000   20.180000  "
      ]
     },
     "execution_count": 198,
     "metadata": {},
     "output_type": "execute_result"
    }
   ],
   "source": [
    "df1.describe()"
   ]
  },
  {
   "cell_type": "code",
   "execution_count": 201,
   "metadata": {
    "ExecuteTime": {
     "end_time": "2022-03-10T05:15:27.713119Z",
     "start_time": "2022-03-10T05:15:27.671833Z"
    }
   },
   "outputs": [
    {
     "data": {
      "text/plain": [
       "SMALL LoBM    48.271761\n",
       "ME1 BM2       47.972280\n",
       "ME1 BM3       48.160309\n",
       "ME1 BM4       47.727168\n",
       "SMALL HiBM    47.876258\n",
       "ME2 BM1       48.101840\n",
       "ME2 BM2       47.362412\n",
       "ME2 BM3       47.694486\n",
       "ME2 BM4       47.642156\n",
       "ME2 BM5       47.439798\n",
       "ME3 BM1       47.512538\n",
       "ME3 BM2       47.230783\n",
       "ME3 BM3       47.597866\n",
       "ME3 BM4       47.871124\n",
       "ME3 BM5       47.850373\n",
       "ME4 BM1       48.231692\n",
       "ME4 BM2       47.307684\n",
       "ME4 BM3       47.658794\n",
       "ME4 BM4       47.604857\n",
       "ME4 BM5       47.678118\n",
       "BIG LoBM      47.743256\n",
       "ME5 BM2       48.495450\n",
       "ME5 BM3       47.524430\n",
       "ME5 BM4       47.995781\n",
       "BIG HiBM      47.771154\n",
       "dtype: float64"
      ]
     },
     "execution_count": 201,
     "metadata": {},
     "output_type": "execute_result"
    }
   ],
   "source": [
    "df1.describe().mean()"
   ]
  },
  {
   "cell_type": "code",
   "execution_count": 196,
   "metadata": {
    "ExecuteTime": {
     "end_time": "2022-03-10T04:04:16.819215Z",
     "start_time": "2022-03-10T04:04:15.677900Z"
    }
   },
   "outputs": [
    {
     "data": {
      "image/png": "[encoded data removed]",
      "text/plain": [
       "<Figure size 432x288 with 1 Axes>"
      ]
     },
     "metadata": {
      "needs_background": "light"
     },
     "output_type": "display_data"
    }
   ],
   "source": [
    "import matplotlib.pyplot as plt\n",
    "import seaborn as sns\n",
    "for col in df1.columns[1:]:\n",
    "#     plt.figure()\n",
    "    sns.distplot(df1[col])"
   ]
  },
  {
   "cell_type": "code",
   "execution_count": null,
   "metadata": {},
   "outputs": [],
   "source": []
  },
  {
   "cell_type": "code",
   "execution_count": null,
   "metadata": {},
   "outputs": [],
   "source": []
  },
  {
   "cell_type": "code",
   "execution_count": null,
   "metadata": {},
   "outputs": [],
   "source": []
  },
  {
   "cell_type": "code",
   "execution_count": null,
   "metadata": {},
   "outputs": [],
   "source": []
  },
  {
   "cell_type": "code",
   "execution_count": null,
   "metadata": {},
   "outputs": [],
   "source": []
  }
 ],
 "metadata": {
  "hide_input": false,
  "kernelspec": {
   "display_name": "aide",
   "language": "python",
   "name": "aide"
  },
  "language_info": {
   "codemirror_mode": {
    "name": "ipython",
    "version": 3
   },
   "file_extension": ".py",
   "mimetype": "text/x-python",
   "name": "python",
   "nbconvert_exporter": "python",
   "pygments_lexer": "ipython3",
   "version": "3.8.12"
  },
  "varInspector": {
   "cols": {
    "lenName": 16,
    "lenType": 16,
    "lenVar": 40
   },
   "kernels_config": {
    "python": {
     "delete_cmd_postfix": "",
     "delete_cmd_prefix": "del ",
     "library": "var_list.py",
     "varRefreshCmd": "print(var_dic_list())"
    },
    "r": {
     "delete_cmd_postfix": ") ",
     "delete_cmd_prefix": "rm(",
     "library": "var_list.r",
     "varRefreshCmd": "cat(var_dic_list()) "
    }
   },
   "types_to_exclude": [
    "module",
    "function",
    "builtin_function_or_method",
    "instance",
    "_Feature"
   ],
   "window_display": false
  }
 },
 "nbformat": 4,
 "nbformat_minor": 4
}
